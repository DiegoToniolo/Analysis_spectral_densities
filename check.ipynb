{
 "cells": [
  {
   "cell_type": "code",
   "execution_count": 1,
   "id": "275e402d",
   "metadata": {},
   "outputs": [],
   "source": [
    "import numpy as np\n",
    "import matplotlib.pyplot as plt\n",
    "from jackknife import *\n",
    "from scipy.optimize import curve_fit\n",
    "from scipy.integrate import quad\n",
    "from scipy.special import gamma\n",
    "from corr_fits import *\n",
    "from spectral_density import *\n",
    "import mpmath"
   ]
  },
  {
   "cell_type": "code",
   "execution_count": 2,
   "id": "2c647728",
   "metadata": {},
   "outputs": [],
   "source": [
    "df = open(\"out/vector/data/correlators/run_vector_folded_ml_4.txt\", \"r\")\n",
    "jf = open(\"out/vector/data/correlators/run_vector_jack.txt\", \"r\")\n",
    "\n",
    "dat = df.readlines()\n",
    "\n",
    "corr_jack = []\n",
    "\n",
    "for line in dat:\n",
    "    jack = np.zeros(25)\n",
    "    for i in range(25):\n",
    "        jack[i]  = float(jf.readline())\n",
    "    corr_jack.append(Jackknife())\n",
    "    corr_jack[-1].mean = float((line.split())[0])\n",
    "    corr_jack[-1].jack = jack\n",
    "\n",
    "corr, err_corr, cov_corr = Jackknife.to_lists(corr_jack)\n",
    "        \n",
    "df.close()\n",
    "jf.close()"
   ]
  },
  {
   "cell_type": "code",
   "execution_count": 3,
   "id": "d8ed6fc3",
   "metadata": {},
   "outputs": [
    {
     "name": "stdout",
     "output_type": "stream",
     "text": [
      "[0.00124701 0.273436   0.00434945 0.51144887]\n"
     ]
    },
    {
     "data": {
      "text/plain": [
       "array([[1.61325329e-08, 5.93670198e-07, 8.21919631e-08, 4.06303010e-06],\n",
       "       [5.93670198e-07, 2.22936126e-05, 2.89971661e-06, 1.45740412e-04],\n",
       "       [8.21919631e-08, 2.89971661e-06, 4.84419259e-07, 2.25178848e-05],\n",
       "       [4.06303010e-06, 1.45740412e-04, 2.25178848e-05, 1.07426145e-03]])"
      ]
     },
     "execution_count": 3,
     "metadata": {},
     "output_type": "execute_result"
    }
   ],
   "source": [
    "model = Double_exp_np()\n",
    "par, _ = curve_fit(model.fit_f, np.arange(10, 35), corr[10:35], [0.001, 0.27, 0.004, 0.511], sigma=err_corr[10:35])\n",
    "print(par)\n",
    "cf = Corr_fits(model.f, model.der_list(), par, np.arange(10, 35), corr[10:35], cov_corr[10:35, 10:35])\n",
    "cf.cov_par()"
   ]
  },
  {
   "cell_type": "code",
   "execution_count": 4,
   "id": "5c002142",
   "metadata": {},
   "outputs": [],
   "source": [
    "x = np.arange(10, 35)\n",
    "W = np.diag(1/err_corr[10:35])\n",
    "J = np.zeros((len(par), len(x)))\n",
    "for i in range(len(x)):\n",
    "    J[:, i] = model.jac(x[i], par)\n",
    "\n",
    "H_inv = np.linalg.inv(J @ W @ W @ J.T)\n",
    "C = cov_corr[10:35, 10:35]\n",
    "cov_par = H_inv @ J @ W @ W @ C @ W @ W @ J.T @ H_inv"
   ]
  },
  {
   "cell_type": "code",
   "execution_count": 5,
   "id": "43c2651c",
   "metadata": {},
   "outputs": [
    {
     "data": {
      "text/plain": [
       "array([8.15435907e-04, 4.19330562e-04, 2.11540696e-04, 1.04215346e-04,\n",
       "       4.98225219e-05, 2.29019245e-05, 9.97850125e-06, 4.02432171e-06,\n",
       "       1.44334852e-06, 4.56002026e-07, 2.32180698e-07, 2.18644726e-07,\n",
       "       1.97438758e-07, 1.72779174e-07, 1.51807164e-07, 1.33699462e-07,\n",
       "       1.17200893e-07, 1.02221312e-07, 8.90659758e-08, 7.78304838e-08,\n",
       "       6.83028325e-08, 6.01147671e-08, 5.29098517e-08, 4.64310234e-08,\n",
       "       4.05307343e-08, 3.51421666e-08, 3.02434105e-08, 2.58295914e-08,\n",
       "       2.18960639e-08, 1.84306224e-08, 1.54115400e-08, 1.28087376e-08,\n",
       "       1.05862528e-08, 8.70493065e-09, 7.12479712e-09, 5.80690178e-09,\n",
       "       4.71460472e-09, 3.81437113e-09, 3.07617141e-09, 2.47358835e-09,\n",
       "       1.98372123e-09, 1.58696038e-09, 1.26668832e-09, 1.00894822e-09,\n",
       "       8.02107937e-10, 6.36537533e-10, 5.04311410e-10, 3.98940382e-10])"
      ]
     },
     "execution_count": 5,
     "metadata": {},
     "output_type": "execute_result"
    }
   ],
   "source": [
    "x = np.arange(0, 48)\n",
    "J = np.zeros((len(par), len(x)))\n",
    "for i in range(len(x)):\n",
    "    J[:, i] = model.jac(x[i], par)\n",
    "\n",
    "np.sqrt(np.diagonal(J.T @ cov_par @ J))"
   ]
  }
 ],
 "metadata": {
  "kernelspec": {
   "display_name": "Python 3",
   "language": "python",
   "name": "python3"
  },
  "language_info": {
   "codemirror_mode": {
    "name": "ipython",
    "version": 3
   },
   "file_extension": ".py",
   "mimetype": "text/x-python",
   "name": "python",
   "nbconvert_exporter": "python",
   "pygments_lexer": "ipython3",
   "version": "3.9.21"
  }
 },
 "nbformat": 4,
 "nbformat_minor": 5
}
